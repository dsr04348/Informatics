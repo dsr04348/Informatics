{
 "cells": [
  {
   "cell_type": "markdown",
   "id": "0dddc2d7",
   "metadata": {},
   "source": [
    "## Data Types"
   ]
  },
  {
   "cell_type": "code",
   "execution_count": 58,
   "id": "a91104f4",
   "metadata": {},
   "outputs": [
    {
     "name": "stdout",
     "output_type": "stream",
     "text": [
      "Enter a sentence: We are learning python.\n"
     ]
    }
   ],
   "source": [
    "sentence = input('Enter a sentence: ')"
   ]
  },
  {
   "cell_type": "code",
   "execution_count": 59,
   "id": "d24088c4",
   "metadata": {},
   "outputs": [
    {
     "name": "stdout",
     "output_type": "stream",
     "text": [
      "We are learning python.\n"
     ]
    },
    {
     "data": {
      "text/plain": [
       "str"
      ]
     },
     "execution_count": 59,
     "metadata": {},
     "output_type": "execute_result"
    }
   ],
   "source": [
    "print(sentence)\n",
    "\n",
    "# check data type\n",
    "type(sentence)"
   ]
  },
  {
   "cell_type": "code",
   "execution_count": 4,
   "id": "6a687dae",
   "metadata": {},
   "outputs": [
    {
     "data": {
      "text/plain": [
       "int"
      ]
     },
     "execution_count": 4,
     "metadata": {},
     "output_type": "execute_result"
    }
   ],
   "source": [
    "int_var = 50\n",
    "type(int_var)"
   ]
  },
  {
   "cell_type": "code",
   "execution_count": 5,
   "id": "12d01653",
   "metadata": {},
   "outputs": [
    {
     "data": {
      "text/plain": [
       "float"
      ]
     },
     "execution_count": 5,
     "metadata": {},
     "output_type": "execute_result"
    }
   ],
   "source": [
    "float_var = 3.5\n",
    "type(float_var)"
   ]
  },
  {
   "cell_type": "code",
   "execution_count": 60,
   "id": "7976c05a",
   "metadata": {},
   "outputs": [
    {
     "name": "stdout",
     "output_type": "stream",
     "text": [
      "['We', 'are', 'learning', 'python.']\n"
     ]
    },
    {
     "data": {
      "text/plain": [
       "list"
      ]
     },
     "execution_count": 60,
     "metadata": {},
     "output_type": "execute_result"
    }
   ],
   "source": [
    "words = sentence.split(' ')\n",
    "print(words)\n",
    "type(words)"
   ]
  },
  {
   "cell_type": "code",
   "execution_count": 37,
   "id": "600c1dd3",
   "metadata": {},
   "outputs": [
    {
     "name": "stdout",
     "output_type": "stream",
     "text": [
      "['IUPUI', 'is', 'located', 'in', 'Indianapolis']\n",
      "['IUPUI', 'is', 'located', 'in', 'Indianapolis', 'is']\n",
      "{'located', 'Indianapolis', 'is', 'IUPUI', 'in'}\n"
     ]
    }
   ],
   "source": [
    "print(words)\n",
    "words.append('is')\n",
    "print(words)\n",
    "set_var = set(words)\n",
    "print(set_var)"
   ]
  },
  {
   "cell_type": "code",
   "execution_count": 38,
   "id": "4640a25c",
   "metadata": {},
   "outputs": [
    {
     "name": "stdout",
     "output_type": "stream",
     "text": [
      "['IUPUI', 'is', 'located', 'in', 'Indianapolis']\n"
     ]
    }
   ],
   "source": [
    "# remove the last item from a list\n",
    "words.pop()\n",
    "print(words)"
   ]
  },
  {
   "cell_type": "code",
   "execution_count": 7,
   "id": "23b3c4ab",
   "metadata": {},
   "outputs": [
    {
     "name": "stdout",
     "output_type": "stream",
     "text": [
      "False\n"
     ]
    },
    {
     "data": {
      "text/plain": [
       "bool"
      ]
     },
     "execution_count": 7,
     "metadata": {},
     "output_type": "execute_result"
    }
   ],
   "source": [
    "boolean_var = 'Bloomington' in words\n",
    "print(boolean_var)\n",
    "type(boolean_var)"
   ]
  },
  {
   "cell_type": "code",
   "execution_count": 9,
   "id": "5fa8c7d3",
   "metadata": {},
   "outputs": [
    {
     "name": "stdout",
     "output_type": "stream",
     "text": [
      "Original key list is : ['IUPUI', 'is', 'located', 'in', 'Indianapolis']\n",
      "Original value list is : [1, 1, 1, 1, 1]\n",
      "{'IUPUI': 1, 'is': 1, 'located': 1, 'in': 1, 'Indianapolis': 1}\n"
     ]
    },
    {
     "data": {
      "text/plain": [
       "dict"
      ]
     },
     "execution_count": 9,
     "metadata": {},
     "output_type": "execute_result"
    }
   ],
   "source": [
    "words_freq = [1, 1, 1, 1, 1]\n",
    "\n",
    "print(\"Original key list is : \" + str(words))\n",
    "print(\"Original value list is : \" + str(words_freq))\n",
    "\n",
    "# using dictionary comprehension\n",
    "# to convert lists to dictionary\n",
    "dic_var = {words[i]: words_freq[i] for i in range(len(words))}\n",
    "\n",
    "print(dic_var)\n",
    "type(dic_var)"
   ]
  },
  {
   "cell_type": "code",
   "execution_count": 11,
   "id": "6870fd8a",
   "metadata": {},
   "outputs": [
    {
     "name": "stdout",
     "output_type": "stream",
     "text": [
      "{'IUPUI': 1, 'is': 1, 'located': 1, 'in': 1, 'Indianapolis': 1}\n"
     ]
    }
   ],
   "source": [
    "# using zip()\n",
    "# to convert lists to dictionary\n",
    "dic_var = dict(zip(words, words_freq))\n",
    "\n",
    "print(dic_var)"
   ]
  },
  {
   "cell_type": "markdown",
   "id": "afb71a27",
   "metadata": {},
   "source": [
    "### String methods"
   ]
  },
  {
   "cell_type": "code",
   "execution_count": 12,
   "id": "675328fe",
   "metadata": {},
   "outputs": [
    {
     "name": "stdout",
     "output_type": "stream",
     "text": [
      "I\n",
      "IUPUI is l\n"
     ]
    }
   ],
   "source": [
    "print(sentence[0])\n",
    "print(sentence[0:10])"
   ]
  },
  {
   "cell_type": "code",
   "execution_count": 61,
   "id": "cafd5b6f",
   "metadata": {},
   "outputs": [
    {
     "name": "stdout",
     "output_type": "stream",
     "text": [
      "we are learning python.\n",
      "WE ARE LEARNING PYTHON.\n"
     ]
    }
   ],
   "source": [
    "# upper/lowercase of a string\n",
    "\n",
    "lower_sentence = sentence.lower()\n",
    "upper_sentence = sentence.upper()\n",
    "\n",
    "print(lower_sentence)\n",
    "print(upper_sentence)"
   ]
  },
  {
   "cell_type": "code",
   "execution_count": 62,
   "id": "b1199447",
   "metadata": {},
   "outputs": [
    {
     "name": "stdout",
     "output_type": "stream",
     "text": [
      "We are learning Indiana.\n"
     ]
    }
   ],
   "source": [
    "# replace a word\n",
    "\n",
    "new_sentence = sentence.replace('python', 'Indiana')\n",
    "print(new_sentence)"
   ]
  },
  {
   "cell_type": "code",
   "execution_count": 15,
   "id": "85b68363",
   "metadata": {},
   "outputs": [
    {
     "name": "stdout",
     "output_type": "stream",
     "text": [
      "['IUPUI', 'is', 'located', 'in', 'Indianapolis']\n",
      "IUPUI is located in Indianapolis\n"
     ]
    }
   ],
   "source": [
    "# join a list of items to a string\n",
    "print(words)\n",
    "print(' '.join(words))"
   ]
  },
  {
   "cell_type": "code",
   "execution_count": 28,
   "id": "b2270590",
   "metadata": {},
   "outputs": [
    {
     "name": "stdout",
     "output_type": "stream",
     "text": [
      "hello world\n"
     ]
    }
   ],
   "source": [
    "# combine two string\n",
    "\n",
    "str1 = 'hello'\n",
    "str1 += ' world'\n",
    "print(str1)"
   ]
  },
  {
   "cell_type": "markdown",
   "id": "4344553d",
   "metadata": {},
   "source": [
    "### Number Methods (Integer & Float)"
   ]
  },
  {
   "cell_type": "code",
   "execution_count": 19,
   "id": "6e11a761",
   "metadata": {},
   "outputs": [
    {
     "data": {
      "text/plain": [
       "16"
      ]
     },
     "execution_count": 19,
     "metadata": {},
     "output_type": "execute_result"
    }
   ],
   "source": [
    "x = 4\n",
    "y = 2\n",
    "\n",
    "x ** y"
   ]
  },
  {
   "cell_type": "code",
   "execution_count": 21,
   "id": "71c29ab7",
   "metadata": {},
   "outputs": [
    {
     "name": "stdout",
     "output_type": "stream",
     "text": [
      "4\n",
      "5\n"
     ]
    }
   ],
   "source": [
    "print(x)\n",
    "x+= 1\n",
    "print(x)"
   ]
  },
  {
   "cell_type": "code",
   "execution_count": 22,
   "id": "1b3ca9e4",
   "metadata": {},
   "outputs": [
    {
     "name": "stdout",
     "output_type": "stream",
     "text": [
      "5\n",
      "10\n"
     ]
    }
   ],
   "source": [
    "print(x)\n",
    "x *= 2\n",
    "print(x)"
   ]
  },
  {
   "cell_type": "code",
   "execution_count": 25,
   "id": "8ff2af8e",
   "metadata": {},
   "outputs": [
    {
     "name": "stdout",
     "output_type": "stream",
     "text": [
      "10\n",
      "3.3333333333333335\n"
     ]
    }
   ],
   "source": [
    "print(x)\n",
    "print(x/3)"
   ]
  },
  {
   "cell_type": "code",
   "execution_count": 27,
   "id": "9af6694e",
   "metadata": {},
   "outputs": [
    {
     "name": "stdout",
     "output_type": "stream",
     "text": [
      "10\n",
      "3\n"
     ]
    }
   ],
   "source": [
    "print(x)\n",
    "print(int(x/3))"
   ]
  },
  {
   "cell_type": "markdown",
   "id": "4c9fdaf3",
   "metadata": {},
   "source": [
    "### for loops"
   ]
  },
  {
   "cell_type": "code",
   "execution_count": 29,
   "id": "6e4646f4",
   "metadata": {},
   "outputs": [
    {
     "name": "stdout",
     "output_type": "stream",
     "text": [
      "IUPUI\n",
      "is\n",
      "located\n",
      "in\n",
      "Indianapolis\n"
     ]
    }
   ],
   "source": [
    "for w in words:\n",
    "    print(w)"
   ]
  },
  {
   "cell_type": "code",
   "execution_count": 30,
   "id": "a21083e2",
   "metadata": {},
   "outputs": [
    {
     "name": "stdout",
     "output_type": "stream",
     "text": [
      "0 IUPUI 1 is 2 located 3 in 4 Indianapolis "
     ]
    }
   ],
   "source": [
    "for idx, w in enumerate(words):\n",
    "    print(str(idx) + ' ' + w, end = ' ')"
   ]
  },
  {
   "cell_type": "code",
   "execution_count": null,
   "id": "da8d9e32",
   "metadata": {},
   "outputs": [],
   "source": []
  },
  {
   "cell_type": "markdown",
   "id": "ae1c00f4",
   "metadata": {},
   "source": [
    "## Read & Write Files"
   ]
  },
  {
   "cell_type": "code",
   "execution_count": 39,
   "id": "21fbfb77",
   "metadata": {},
   "outputs": [],
   "source": [
    "import os"
   ]
  },
  {
   "cell_type": "code",
   "execution_count": 63,
   "id": "f7f02ddb",
   "metadata": {},
   "outputs": [
    {
     "name": "stdout",
     "output_type": "stream",
     "text": [
      "['.DS_Store', 'sample1.txt', 'sample2.txt']\n"
     ]
    }
   ],
   "source": [
    "# get a list of files from a folder\n",
    "\n",
    "fd_path = './data/exp_fd'\n",
    "files = os.listdir(fd_path)\n",
    "print(files)"
   ]
  },
  {
   "cell_type": "code",
   "execution_count": 43,
   "id": "9906d1f8",
   "metadata": {},
   "outputs": [
    {
     "data": {
      "text/plain": [
       "'Artificial intelligence (AI) is intelligence—perceiving, synthesizing, and inferring information—demonstrated by machines, as opposed to intelligence displayed by non-human animals and humans. Example tasks in which this is done include speech recognition, computer vision, translation between (natural) languages, as well as other mappings of inputs.'"
      ]
     },
     "execution_count": 43,
     "metadata": {},
     "output_type": "execute_result"
    }
   ],
   "source": [
    "# read a file\n",
    "\n",
    "txt1 = open(fd_path + '/' + files[1], mode='r', encoding='utf-8').read()\n",
    "txt1"
   ]
  },
  {
   "cell_type": "code",
   "execution_count": 45,
   "id": "a8ed7afc",
   "metadata": {},
   "outputs": [
    {
     "data": {
      "text/plain": [
       "\"The various sub-fields of AI research are centered around particular goals and the use of particular tools. The traditional goals of AI research include reasoning, knowledge representation, planning, learning, natural language processing, perception, and the ability to move and manipulate objects. General intelligence (the ability to solve an arbitrary problem) is among the field's long-term goals.\""
      ]
     },
     "execution_count": 45,
     "metadata": {},
     "output_type": "execute_result"
    }
   ],
   "source": [
    "txt2 = open(fd_path + '/' + files[2], mode='r', encoding='utf-8').read()\n",
    "txt2"
   ]
  },
  {
   "cell_type": "code",
   "execution_count": 64,
   "id": "d3be5e09",
   "metadata": {},
   "outputs": [],
   "source": [
    "# write a file\n",
    "\n",
    "towrite_txt = 'IUPUI is located in Indianapolis.'\n",
    "outfile_path = fd_path + '/' + 'out_sample.txt'\n",
    "\n",
    "with open(outfile_path, mode='w', encoding='utf-8') as outf:\n",
    "    outf.write(towrite_txt)\n",
    "outf.close()"
   ]
  },
  {
   "cell_type": "code",
   "execution_count": 65,
   "id": "6fc8dfd0",
   "metadata": {},
   "outputs": [
    {
     "data": {
      "text/plain": [
       "'IUPUI is located in Indianapolis.'"
      ]
     },
     "execution_count": 65,
     "metadata": {},
     "output_type": "execute_result"
    }
   ],
   "source": [
    "txt3 = open(outfile_path, mode='r', encoding='utf-8').read()\n",
    "txt3"
   ]
  },
  {
   "cell_type": "code",
   "execution_count": null,
   "id": "e0d07f96",
   "metadata": {},
   "outputs": [],
   "source": []
  },
  {
   "cell_type": "markdown",
   "id": "5951a83e",
   "metadata": {},
   "source": [
    "## Functions"
   ]
  },
  {
   "cell_type": "code",
   "execution_count": 51,
   "id": "0756fa78",
   "metadata": {},
   "outputs": [
    {
     "data": {
      "text/plain": [
       "'IUPUI is located in Indianapolis'"
      ]
     },
     "execution_count": 51,
     "metadata": {},
     "output_type": "execute_result"
    }
   ],
   "source": [
    "sentence"
   ]
  },
  {
   "cell_type": "code",
   "execution_count": 52,
   "id": "c44bcc6d",
   "metadata": {},
   "outputs": [
    {
     "data": {
      "text/plain": [
       "['IUPUI', 'is', 'located', 'in', 'Indianapolis']"
      ]
     },
     "execution_count": 52,
     "metadata": {},
     "output_type": "execute_result"
    }
   ],
   "source": [
    "words"
   ]
  },
  {
   "cell_type": "code",
   "execution_count": 53,
   "id": "9b03b315",
   "metadata": {},
   "outputs": [],
   "source": [
    "def get_words(arg_txt):\n",
    "    result = arg_txt.split(' ')\n",
    "    return result"
   ]
  },
  {
   "cell_type": "code",
   "execution_count": 66,
   "id": "78ccfd8d",
   "metadata": {},
   "outputs": [
    {
     "name": "stdout",
     "output_type": "stream",
     "text": [
      "['We', 'are', 'learning', 'python.']\n"
     ]
    }
   ],
   "source": [
    "tokens = get_words(sentence)\n",
    "print(tokens)"
   ]
  },
  {
   "cell_type": "code",
   "execution_count": null,
   "id": "f432187b",
   "metadata": {},
   "outputs": [],
   "source": []
  },
  {
   "cell_type": "code",
   "execution_count": 55,
   "id": "324d1ab3",
   "metadata": {},
   "outputs": [],
   "source": [
    "### add a hidden argument\n",
    "\n",
    "def get_words(arg_txt, signal = True):\n",
    "    if signal:\n",
    "        result = arg_txt.split(' ')\n",
    "    else:\n",
    "        result = 'Nothing'\n",
    "    return result"
   ]
  },
  {
   "cell_type": "code",
   "execution_count": 56,
   "id": "bbd3ffc4",
   "metadata": {},
   "outputs": [
    {
     "name": "stdout",
     "output_type": "stream",
     "text": [
      "['IUPUI', 'is', 'located', 'in', 'Indianapolis']\n"
     ]
    }
   ],
   "source": [
    "tokens = get_words(sentence)\n",
    "print(tokens)"
   ]
  },
  {
   "cell_type": "code",
   "execution_count": 57,
   "id": "ca5a3d9b",
   "metadata": {},
   "outputs": [
    {
     "name": "stdout",
     "output_type": "stream",
     "text": [
      "Nothing\n"
     ]
    }
   ],
   "source": [
    "tokens = get_words(sentence, False)\n",
    "print(tokens)"
   ]
  },
  {
   "cell_type": "code",
   "execution_count": null,
   "id": "f6b61a94",
   "metadata": {},
   "outputs": [],
   "source": []
  },
  {
   "cell_type": "markdown",
   "id": "a9149613",
   "metadata": {},
   "source": [
    "## Practice -- Word Counting"
   ]
  },
  {
   "cell_type": "markdown",
   "id": "5a755e27",
   "metadata": {},
   "source": [
    "Read two text files from the example folder, count the frequency of the word \"artificial\", \"a\", \"AI\""
   ]
  },
  {
   "cell_type": "markdown",
   "id": "e10fc343",
   "metadata": {},
   "source": [
    "Get a dictionary of words and their frequency from two text files."
   ]
  },
  {
   "cell_type": "code",
   "execution_count": 67,
   "id": "1a61776b",
   "metadata": {},
   "outputs": [],
   "source": [
    "import os"
   ]
  },
  {
   "cell_type": "code",
   "execution_count": 68,
   "id": "cbcf44ac",
   "metadata": {},
   "outputs": [
    {
     "name": "stdout",
     "output_type": "stream",
     "text": [
      "['.DS_Store', 'out_sample.txt', 'sample1.txt', 'sample2.txt']\n"
     ]
    }
   ],
   "source": [
    "# get a list of files from a folder\n",
    "\n",
    "fd_path = './data/exp_fd'\n",
    "files = os.listdir(fd_path)\n",
    "print(files)"
   ]
  },
  {
   "cell_type": "code",
   "execution_count": 70,
   "id": "db72a1fa",
   "metadata": {},
   "outputs": [
    {
     "data": {
      "text/plain": [
       "'Artificial intelligence (AI) is intelligence—perceiving, synthesizing, and inferring information—demonstrated by machines, as opposed to intelligence displayed by non-human animals and humans. Example tasks in which this is done include speech recognition, computer vision, translation between (natural) languages, as well as other mappings of inputs.'"
      ]
     },
     "execution_count": 70,
     "metadata": {},
     "output_type": "execute_result"
    }
   ],
   "source": [
    "# read a file\n",
    "\n",
    "txt1 = open(fd_path + '/' + files[2], mode='r', encoding='utf-8').read()\n",
    "txt1"
   ]
  },
  {
   "cell_type": "code",
   "execution_count": 71,
   "id": "1ce2a835",
   "metadata": {},
   "outputs": [
    {
     "data": {
      "text/plain": [
       "\"The various sub-fields of AI research are centered around particular goals and the use of particular tools. The traditional goals of AI research include reasoning, knowledge representation, planning, learning, natural language processing, perception, and the ability to move and manipulate objects. General intelligence (the ability to solve an arbitrary problem) is among the field's long-term goals.\""
      ]
     },
     "execution_count": 71,
     "metadata": {},
     "output_type": "execute_result"
    }
   ],
   "source": [
    "txt2 = open(fd_path + '/' + files[3], mode='r', encoding='utf-8').read()\n",
    "txt2"
   ]
  },
  {
   "cell_type": "code",
   "execution_count": 72,
   "id": "ede66070",
   "metadata": {},
   "outputs": [
    {
     "data": {
      "text/plain": [
       "\"Artificial intelligence (AI) is intelligence—perceiving, synthesizing, and inferring information—demonstrated by machines, as opposed to intelligence displayed by non-human animals and humans. Example tasks in which this is done include speech recognition, computer vision, translation between (natural) languages, as well as other mappings of inputs. The various sub-fields of AI research are centered around particular goals and the use of particular tools. The traditional goals of AI research include reasoning, knowledge representation, planning, learning, natural language processing, perception, and the ability to move and manipulate objects. General intelligence (the ability to solve an arbitrary problem) is among the field's long-term goals.\""
      ]
     },
     "execution_count": 72,
     "metadata": {},
     "output_type": "execute_result"
    }
   ],
   "source": [
    "txt = txt1 + ' ' + txt2\n",
    "txt"
   ]
  },
  {
   "cell_type": "code",
   "execution_count": 73,
   "id": "41c63d0f",
   "metadata": {},
   "outputs": [],
   "source": [
    "def get_words(arg_txt):\n",
    "    result = arg_txt.split(' ')\n",
    "    return result"
   ]
  },
  {
   "cell_type": "code",
   "execution_count": 74,
   "id": "7547dfa0",
   "metadata": {},
   "outputs": [
    {
     "name": "stdout",
     "output_type": "stream",
     "text": [
      "100\n",
      "['Artificial', 'intelligence', '(AI)', 'is', 'intelligence—perceiving,', 'synthesizing,', 'and', 'inferring', 'information—demonstrated', 'by']\n"
     ]
    }
   ],
   "source": [
    "tokens = get_words(txt)\n",
    "print(len(tokens))\n",
    "print(tokens[:10])"
   ]
  },
  {
   "cell_type": "markdown",
   "id": "5d457321",
   "metadata": {},
   "source": [
    "### Task 1"
   ]
  },
  {
   "cell_type": "code",
   "execution_count": 75,
   "id": "d885daab",
   "metadata": {},
   "outputs": [],
   "source": [
    "# count the frequence of an input word\n",
    "\n",
    "def count_wd(keyword, word_list):\n",
    "    result = word_list.count(keyword)\n",
    "    return result"
   ]
  },
  {
   "cell_type": "code",
   "execution_count": 78,
   "id": "03e1d9e9",
   "metadata": {},
   "outputs": [
    {
     "name": "stdout",
     "output_type": "stream",
     "text": [
      "#Artificial:  1\n"
     ]
    }
   ],
   "source": [
    "num_kw1 = count_wd('Artificial', tokens)\n",
    "print('#Artificial: ', num_kw1)"
   ]
  },
  {
   "cell_type": "code",
   "execution_count": 79,
   "id": "98fb7af8",
   "metadata": {},
   "outputs": [
    {
     "name": "stdout",
     "output_type": "stream",
     "text": [
      "#a:  0\n"
     ]
    }
   ],
   "source": [
    "num_kw2 = count_wd('a', tokens)\n",
    "print('#a: ', num_kw2)"
   ]
  },
  {
   "cell_type": "code",
   "execution_count": 80,
   "id": "b0970bd7",
   "metadata": {},
   "outputs": [
    {
     "name": "stdout",
     "output_type": "stream",
     "text": [
      "#the:  3\n"
     ]
    }
   ],
   "source": [
    "num_kw2 = count_wd('the', tokens)\n",
    "print('#the: ', num_kw2)"
   ]
  },
  {
   "cell_type": "code",
   "execution_count": 81,
   "id": "8ae2e431",
   "metadata": {},
   "outputs": [
    {
     "name": "stdout",
     "output_type": "stream",
     "text": [
      "#AI:  2\n"
     ]
    }
   ],
   "source": [
    "num_kw3 = count_wd('AI', tokens)\n",
    "print('#AI: ', num_kw3)"
   ]
  },
  {
   "cell_type": "markdown",
   "id": "170a83fa",
   "metadata": {},
   "source": [
    "### Task 2"
   ]
  },
  {
   "cell_type": "code",
   "execution_count": 84,
   "id": "84ae2e30",
   "metadata": {},
   "outputs": [],
   "source": [
    "from collections import Counter"
   ]
  },
  {
   "cell_type": "code",
   "execution_count": 88,
   "id": "c62df33b",
   "metadata": {},
   "outputs": [
    {
     "name": "stdout",
     "output_type": "stream",
     "text": [
      "<class 'collections.Counter'>\n",
      "<class 'dict'>\n"
     ]
    },
    {
     "data": {
      "text/plain": [
       "{'Artificial': 1,\n",
       " 'intelligence': 3,\n",
       " '(AI)': 1,\n",
       " 'is': 3,\n",
       " 'intelligence—perceiving,': 1,\n",
       " 'synthesizing,': 1,\n",
       " 'and': 5,\n",
       " 'inferring': 1,\n",
       " 'information—demonstrated': 1,\n",
       " 'by': 2,\n",
       " 'machines,': 1,\n",
       " 'as': 3,\n",
       " 'opposed': 1,\n",
       " 'to': 3,\n",
       " 'displayed': 1,\n",
       " 'non-human': 1,\n",
       " 'animals': 1,\n",
       " 'humans.': 1,\n",
       " 'Example': 1,\n",
       " 'tasks': 1,\n",
       " 'in': 1,\n",
       " 'which': 1,\n",
       " 'this': 1,\n",
       " 'done': 1,\n",
       " 'include': 2,\n",
       " 'speech': 1,\n",
       " 'recognition,': 1,\n",
       " 'computer': 1,\n",
       " 'vision,': 1,\n",
       " 'translation': 1,\n",
       " 'between': 1,\n",
       " '(natural)': 1,\n",
       " 'languages,': 1,\n",
       " 'well': 1,\n",
       " 'other': 1,\n",
       " 'mappings': 1,\n",
       " 'of': 4,\n",
       " 'inputs.': 1,\n",
       " 'The': 2,\n",
       " 'various': 1,\n",
       " 'sub-fields': 1,\n",
       " 'AI': 2,\n",
       " 'research': 2,\n",
       " 'are': 1,\n",
       " 'centered': 1,\n",
       " 'around': 1,\n",
       " 'particular': 2,\n",
       " 'goals': 2,\n",
       " 'the': 3,\n",
       " 'use': 1,\n",
       " 'tools.': 1,\n",
       " 'traditional': 1,\n",
       " 'reasoning,': 1,\n",
       " 'knowledge': 1,\n",
       " 'representation,': 1,\n",
       " 'planning,': 1,\n",
       " 'learning,': 1,\n",
       " 'natural': 1,\n",
       " 'language': 1,\n",
       " 'processing,': 1,\n",
       " 'perception,': 1,\n",
       " 'ability': 2,\n",
       " 'move': 1,\n",
       " 'manipulate': 1,\n",
       " 'objects.': 1,\n",
       " 'General': 1,\n",
       " '(the': 1,\n",
       " 'solve': 1,\n",
       " 'an': 1,\n",
       " 'arbitrary': 1,\n",
       " 'problem)': 1,\n",
       " 'among': 1,\n",
       " \"field's\": 1,\n",
       " 'long-term': 1,\n",
       " 'goals.': 1}"
      ]
     },
     "execution_count": 88,
     "metadata": {},
     "output_type": "execute_result"
    }
   ],
   "source": [
    "dic_words = Counter(tokens)\n",
    "print(type(dic_words))\n",
    "dic_words = dict(dic_words)\n",
    "print(type(dic_words))\n",
    "dic_words"
   ]
  },
  {
   "cell_type": "code",
   "execution_count": 97,
   "id": "8d0d878d",
   "metadata": {},
   "outputs": [
    {
     "data": {
      "text/plain": [
       "75"
      ]
     },
     "execution_count": 97,
     "metadata": {},
     "output_type": "execute_result"
    }
   ],
   "source": [
    "# Counte the vocabulary size\n",
    "\n",
    "key_ls = list(dic_words.keys())\n",
    "len(key_ls)"
   ]
  },
  {
   "cell_type": "markdown",
   "id": "004806fb",
   "metadata": {},
   "source": [
    "### Sort a dictionary by values"
   ]
  },
  {
   "cell_type": "code",
   "execution_count": 94,
   "id": "81cc06f0",
   "metadata": {},
   "outputs": [],
   "source": [
    "import operator"
   ]
  },
  {
   "cell_type": "code",
   "execution_count": 95,
   "id": "0d25ca42",
   "metadata": {},
   "outputs": [
    {
     "data": {
      "text/plain": [
       "[('Artificial', 1),\n",
       " ('(AI)', 1),\n",
       " ('intelligence—perceiving,', 1),\n",
       " ('synthesizing,', 1),\n",
       " ('inferring', 1),\n",
       " ('information—demonstrated', 1),\n",
       " ('machines,', 1),\n",
       " ('opposed', 1),\n",
       " ('displayed', 1),\n",
       " ('non-human', 1),\n",
       " ('animals', 1),\n",
       " ('humans.', 1),\n",
       " ('Example', 1),\n",
       " ('tasks', 1),\n",
       " ('in', 1),\n",
       " ('which', 1),\n",
       " ('this', 1),\n",
       " ('done', 1),\n",
       " ('speech', 1),\n",
       " ('recognition,', 1),\n",
       " ('computer', 1),\n",
       " ('vision,', 1),\n",
       " ('translation', 1),\n",
       " ('between', 1),\n",
       " ('(natural)', 1),\n",
       " ('languages,', 1),\n",
       " ('well', 1),\n",
       " ('other', 1),\n",
       " ('mappings', 1),\n",
       " ('inputs.', 1),\n",
       " ('various', 1),\n",
       " ('sub-fields', 1),\n",
       " ('are', 1),\n",
       " ('centered', 1),\n",
       " ('around', 1),\n",
       " ('use', 1),\n",
       " ('tools.', 1),\n",
       " ('traditional', 1),\n",
       " ('reasoning,', 1),\n",
       " ('knowledge', 1),\n",
       " ('representation,', 1),\n",
       " ('planning,', 1),\n",
       " ('learning,', 1),\n",
       " ('natural', 1),\n",
       " ('language', 1),\n",
       " ('processing,', 1),\n",
       " ('perception,', 1),\n",
       " ('move', 1),\n",
       " ('manipulate', 1),\n",
       " ('objects.', 1),\n",
       " ('General', 1),\n",
       " ('(the', 1),\n",
       " ('solve', 1),\n",
       " ('an', 1),\n",
       " ('arbitrary', 1),\n",
       " ('problem)', 1),\n",
       " ('among', 1),\n",
       " (\"field's\", 1),\n",
       " ('long-term', 1),\n",
       " ('goals.', 1),\n",
       " ('by', 2),\n",
       " ('include', 2),\n",
       " ('The', 2),\n",
       " ('AI', 2),\n",
       " ('research', 2),\n",
       " ('particular', 2),\n",
       " ('goals', 2),\n",
       " ('ability', 2),\n",
       " ('intelligence', 3),\n",
       " ('is', 3),\n",
       " ('as', 3),\n",
       " ('to', 3),\n",
       " ('the', 3),\n",
       " ('of', 4),\n",
       " ('and', 5)]"
      ]
     },
     "execution_count": 95,
     "metadata": {},
     "output_type": "execute_result"
    }
   ],
   "source": [
    "sorted_dic_words = sorted(dic_words.items(), key=operator.itemgetter(1))\n",
    "sorted_dic_words"
   ]
  },
  {
   "cell_type": "code",
   "execution_count": 96,
   "id": "2bea70a3",
   "metadata": {},
   "outputs": [
    {
     "data": {
      "text/plain": [
       "[('and', 5),\n",
       " ('of', 4),\n",
       " ('intelligence', 3),\n",
       " ('is', 3),\n",
       " ('as', 3),\n",
       " ('to', 3),\n",
       " ('the', 3),\n",
       " ('by', 2),\n",
       " ('include', 2),\n",
       " ('The', 2),\n",
       " ('AI', 2),\n",
       " ('research', 2),\n",
       " ('particular', 2),\n",
       " ('goals', 2),\n",
       " ('ability', 2),\n",
       " ('Artificial', 1),\n",
       " ('(AI)', 1),\n",
       " ('intelligence—perceiving,', 1),\n",
       " ('synthesizing,', 1),\n",
       " ('inferring', 1),\n",
       " ('information—demonstrated', 1),\n",
       " ('machines,', 1),\n",
       " ('opposed', 1),\n",
       " ('displayed', 1),\n",
       " ('non-human', 1),\n",
       " ('animals', 1),\n",
       " ('humans.', 1),\n",
       " ('Example', 1),\n",
       " ('tasks', 1),\n",
       " ('in', 1),\n",
       " ('which', 1),\n",
       " ('this', 1),\n",
       " ('done', 1),\n",
       " ('speech', 1),\n",
       " ('recognition,', 1),\n",
       " ('computer', 1),\n",
       " ('vision,', 1),\n",
       " ('translation', 1),\n",
       " ('between', 1),\n",
       " ('(natural)', 1),\n",
       " ('languages,', 1),\n",
       " ('well', 1),\n",
       " ('other', 1),\n",
       " ('mappings', 1),\n",
       " ('inputs.', 1),\n",
       " ('various', 1),\n",
       " ('sub-fields', 1),\n",
       " ('are', 1),\n",
       " ('centered', 1),\n",
       " ('around', 1),\n",
       " ('use', 1),\n",
       " ('tools.', 1),\n",
       " ('traditional', 1),\n",
       " ('reasoning,', 1),\n",
       " ('knowledge', 1),\n",
       " ('representation,', 1),\n",
       " ('planning,', 1),\n",
       " ('learning,', 1),\n",
       " ('natural', 1),\n",
       " ('language', 1),\n",
       " ('processing,', 1),\n",
       " ('perception,', 1),\n",
       " ('move', 1),\n",
       " ('manipulate', 1),\n",
       " ('objects.', 1),\n",
       " ('General', 1),\n",
       " ('(the', 1),\n",
       " ('solve', 1),\n",
       " ('an', 1),\n",
       " ('arbitrary', 1),\n",
       " ('problem)', 1),\n",
       " ('among', 1),\n",
       " (\"field's\", 1),\n",
       " ('long-term', 1),\n",
       " ('goals.', 1)]"
      ]
     },
     "execution_count": 96,
     "metadata": {},
     "output_type": "execute_result"
    }
   ],
   "source": [
    "reverse_sorted_dic_words = sorted(dic_words.items(), key=operator.itemgetter(1),reverse=True)\n",
    "reverse_sorted_dic_words"
   ]
  },
  {
   "cell_type": "code",
   "execution_count": null,
   "id": "f9d655f0",
   "metadata": {},
   "outputs": [],
   "source": []
  }
 ],
 "metadata": {
  "kernelspec": {
   "display_name": "Python 3 (ipykernel)",
   "language": "python",
   "name": "python3"
  },
  "language_info": {
   "codemirror_mode": {
    "name": "ipython",
    "version": 3
   },
   "file_extension": ".py",
   "mimetype": "text/x-python",
   "name": "python",
   "nbconvert_exporter": "python",
   "pygments_lexer": "ipython3",
   "version": "3.8.15"
  }
 },
 "nbformat": 4,
 "nbformat_minor": 5
}
